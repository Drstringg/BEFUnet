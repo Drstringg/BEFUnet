{
  "cells": [
    {
      "cell_type": "markdown",
      "source": [
        "GPU availability"
      ],
      "metadata": {
        "id": "mhhx8MbxloVB"
      },
      "id": "mhhx8MbxloVB"
    },
    {
      "cell_type": "code",
      "source": [
        "!nvidia-smi"
      ],
      "metadata": {
        "colab": {
          "base_uri": "https://localhost:8080/"
        },
        "id": "aR2lXA6RlnE4",
        "outputId": "eee4faf0-b112-4b50-ef6d-02f8aab8d521"
      },
      "id": "aR2lXA6RlnE4",
      "execution_count": 1,
      "outputs": [
        {
          "output_type": "stream",
          "name": "stdout",
          "text": [
            "Wed Feb 21 16:55:33 2024       \n",
            "+---------------------------------------------------------------------------------------+\n",
            "| NVIDIA-SMI 535.104.05             Driver Version: 535.104.05   CUDA Version: 12.2     |\n",
            "|-----------------------------------------+----------------------+----------------------+\n",
            "| GPU  Name                 Persistence-M | Bus-Id        Disp.A | Volatile Uncorr. ECC |\n",
            "| Fan  Temp   Perf          Pwr:Usage/Cap |         Memory-Usage | GPU-Util  Compute M. |\n",
            "|                                         |                      |               MIG M. |\n",
            "|=========================================+======================+======================|\n",
            "|   0  Tesla T4                       Off | 00000000:00:04.0 Off |                    0 |\n",
            "| N/A   48C    P8               9W /  70W |      0MiB / 15360MiB |      0%      Default |\n",
            "|                                         |                      |                  N/A |\n",
            "+-----------------------------------------+----------------------+----------------------+\n",
            "                                                                                         \n",
            "+---------------------------------------------------------------------------------------+\n",
            "| Processes:                                                                            |\n",
            "|  GPU   GI   CI        PID   Type   Process name                            GPU Memory |\n",
            "|        ID   ID                                                             Usage      |\n",
            "|=======================================================================================|\n",
            "|  No running processes found                                                           |\n",
            "+---------------------------------------------------------------------------------------+\n"
          ]
        }
      ]
    },
    {
      "cell_type": "markdown",
      "id": "db7e6f84",
      "metadata": {
        "id": "db7e6f84"
      },
      "source": [
        " Clone the BEFUnet repository"
      ]
    },
    {
      "cell_type": "code",
      "execution_count": null,
      "id": "b8787023",
      "metadata": {
        "id": "b8787023"
      },
      "outputs": [],
      "source": [
        "!git clone https://github.com/Omid-Nejati/BEFUnet.git\n",
        "%cd /content/BEFUnet"
      ]
    },
    {
      "cell_type": "markdown",
      "source": [
        "Install Packages"
      ],
      "metadata": {
        "id": "NG54HBvOmstN"
      },
      "id": "NG54HBvOmstN"
    },
    {
      "cell_type": "code",
      "source": [
        "!pip install -r requirements.txt"
      ],
      "metadata": {
        "id": "XB8kbccDmrwy"
      },
      "id": "XB8kbccDmrwy",
      "execution_count": null,
      "outputs": []
    },
    {
      "cell_type": "markdown",
      "source": [
        "Download Synapse Dataset"
      ],
      "metadata": {
        "id": "pAe_RG0zmXV1"
      },
      "id": "pAe_RG0zmXV1"
    },
    {
      "cell_type": "code",
      "execution_count": null,
      "id": "4c94fc45",
      "metadata": {
        "id": "4c94fc45"
      },
      "outputs": [],
      "source": [
        "!gdown 18I9JHH_i0uuEDg-N6d7bfMdf7Ut6bhBi\n",
        "!unzip -xq ./data.zip"
      ]
    },
    {
      "cell_type": "markdown",
      "id": "cfe6a31c",
      "metadata": {
        "id": "cfe6a31c"
      },
      "source": [
        "Train Model on Synapse Dataset"
      ]
    },
    {
      "cell_type": "code",
      "execution_count": null,
      "id": "34e123c9",
      "metadata": {
        "id": "34e123c9"
      },
      "outputs": [],
      "source": [
        "!python train.py --root_path ./data/Synapse/train_npz --test_path ./data/Synapse/test_vol_h5 --batch_size 10 --eval_interval 20 --max_epochs 500 --model_name BEFUnet --num_workers 2"
      ]
    }
  ],
  "metadata": {
    "accelerator": "GPU",
    "colab": {
      "provenance": []
    },
    "gpuClass": "standard",
    "kernelspec": {
      "display_name": "Python 3 (ipykernel)",
      "language": "python",
      "name": "python3"
    },
    "language_info": {
      "codemirror_mode": {
        "name": "ipython",
        "version": 3
      },
      "file_extension": ".py",
      "mimetype": "text/x-python",
      "name": "python",
      "nbconvert_exporter": "python",
      "pygments_lexer": "ipython3",
      "version": "3.9.12"
    }
  },
  "nbformat": 4,
  "nbformat_minor": 5
}